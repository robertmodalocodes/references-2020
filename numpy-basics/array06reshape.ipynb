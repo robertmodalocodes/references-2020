{
 "cells": [
  {
   "cell_type": "code",
   "execution_count": 9,
   "metadata": {},
   "outputs": [],
   "source": [
    "import numpy as np"
   ]
  },
  {
   "cell_type": "code",
   "execution_count": 10,
   "metadata": {},
   "outputs": [
    {
     "output_type": "stream",
     "name": "stdout",
     "text": "directly reshaped:\n [[1 2 3]\n [4 5 6]\n [7 8 9]]\n"
    }
   ],
   "source": [
    "# the simplest way to reshape a an array in 1 line\n",
    "grid = np.arange(1, 10).reshape((3, 3))\n",
    "print('directly reshaped:\\n', grid)"
   ]
  },
  {
   "cell_type": "code",
   "execution_count": 11,
   "metadata": {},
   "outputs": [
    {
     "output_type": "stream",
     "name": "stdout",
     "text": "[1 2 3]\nreshaped:\n [[1 2 3]]\nrow vector via newaxis\n [[1 2 3]]\n"
    }
   ],
   "source": [
    "x = np.array([1, 2, 3])\n",
    "\n",
    "print(x)\n",
    "# raw vector via reshape\n",
    "print('reshaped:\\n', x.reshape((1, 3)))\n",
    "\n",
    "# row vector via newaxis\n",
    "xnewaxis = x[np.newaxis, :]\n",
    "print('row vector via newaxis\\n', xnewaxis)"
   ]
  },
  {
   "cell_type": "code",
   "execution_count": 12,
   "metadata": {},
   "outputs": [
    {
     "output_type": "execute_result",
     "data": {
      "text/plain": "array([[1],\n       [2],\n       [3]])"
     },
     "metadata": {},
     "execution_count": 12
    }
   ],
   "source": [
    "# columns vector via reshape\n",
    "x.reshape((3, 1))"
   ]
  },
  {
   "cell_type": "code",
   "execution_count": 13,
   "metadata": {},
   "outputs": [
    {
     "output_type": "execute_result",
     "data": {
      "text/plain": "array([[1],\n       [2],\n       [3]])"
     },
     "metadata": {},
     "execution_count": 13
    }
   ],
   "source": [
    "# column vecotr via newaxis\n",
    "x[:, np.newaxis]"
   ]
  },
  {
   "cell_type": "code",
   "execution_count": null,
   "metadata": {},
   "outputs": [],
   "source": []
  }
 ],
 "metadata": {
  "language_info": {
   "codemirror_mode": {
    "name": "ipython",
    "version": 3
   },
   "file_extension": ".py",
   "mimetype": "text/x-python",
   "name": "python",
   "nbconvert_exporter": "python",
   "pygments_lexer": "ipython3",
   "version": "3.7.4-final"
  },
  "orig_nbformat": 2,
  "kernelspec": {
   "name": "python37432bitb1171ec444e14af78ce458571c10f1e0",
   "display_name": "Python 3.7.4 32-bit"
  }
 },
 "nbformat": 4,
 "nbformat_minor": 2
}