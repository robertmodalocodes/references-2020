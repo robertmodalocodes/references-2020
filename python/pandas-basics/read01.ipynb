{
 "nbformat": 4,
 "nbformat_minor": 2,
 "metadata": {
  "language_info": {
   "name": "python",
   "codemirror_mode": {
    "name": "ipython",
    "version": 3
   },
   "version": "3.7.4-final"
  },
  "orig_nbformat": 2,
  "file_extension": ".py",
  "mimetype": "text/x-python",
  "name": "python",
  "npconvert_exporter": "python",
  "pygments_lexer": "ipython3",
  "version": 3,
  "kernelspec": {
   "name": "python37432bitb1171ec444e14af78ce458571c10f1e0",
   "display_name": "Python 3.7.4 32-bit"
  }
 },
 "cells": [
  {
   "cell_type": "code",
   "execution_count": null,
   "metadata": {},
   "outputs": [],
   "source": [
    "import pandas as pd\n",
    "\n",
    "# reading csv files\n",
    "df = pd.read_csv('D:/Datasets/pokemon_data.csv')\n",
    "\n",
    "print(df.head(4)) # read first 4 records of the dataset\n",
    "print(df.tail(4)) # read last 4 records of the dataset"
   ]
  },
  {
   "cell_type": "code",
   "execution_count": null,
   "metadata": {},
   "outputs": [],
   "source": [
    "# reading excel files\n",
    "df1 = pd.read_excel('D:/Datasets/pokemon_data.xlsx')\n",
    "\n",
    "print(df1.head(4))\n",
    "print(df1.tail(4))"
   ]
  },
  {
   "cell_type": "code",
   "execution_count": null,
   "metadata": {},
   "outputs": [],
   "source": [
    "# reading text files\n",
    "df2 = pd.read_csv('D:/Datasets/pokemon_data.txt', delimiter='\\t') # use delimiter= to specify the separator (mostly for .txt files)\n",
    "\n",
    "print(df2.head(4))\n",
    "print(df2.tail(4))"
   ]
  },
  {
   "cell_type": "code",
   "execution_count": null,
   "metadata": {},
   "outputs": [],
   "source": [
    "# reading headers\n",
    "print(df.columns)"
   ]
  },
  {
   "cell_type": "code",
   "execution_count": null,
   "metadata": {},
   "outputs": [],
   "source": [
    "# read each column\n",
    "print(df['Name']) # get by attribute\n",
    "print(df['Name'][0:5]) # get values from row 0 to 4\n",
    "print(df.Name) # get by attribute"
   ]
  },
  {
   "cell_type": "code",
   "execution_count": null,
   "metadata": {},
   "outputs": [],
   "source": [
    "# read multiple columns\n",
    "df[['Name', 'Type 1', 'HP']][0:5]"
   ]
  },
  {
   "cell_type": "code",
   "execution_count": null,
   "metadata": {},
   "outputs": [],
   "source": [
    "# to print all records\n",
    "df[['Name', 'Type 1', 'HP']]"
   ]
  },
  {
   "cell_type": "code",
   "execution_count": null,
   "metadata": {},
   "outputs": [],
   "source": [
    "# read each row\n",
    "print(df.iloc[1]) # printing all values that belongs to a row\n",
    "print(df.iloc[1:4]) # printing all values of multiple rows\n",
    "df.iloc[1:4] # looks better"
   ]
  },
  {
   "cell_type": "code",
   "execution_count": null,
   "metadata": {},
   "outputs": [],
   "source": [
    "# read a specific value\n",
    "print(df.iloc[2, 1])"
   ]
  },
  {
   "cell_type": "code",
   "execution_count": null,
   "metadata": {},
   "outputs": [],
   "source": [
    "# iterate to read by rows\n",
    "for index, row in df.iterrows():\n",
    "    print(index, row)"
   ]
  },
  {
   "cell_type": "code",
   "execution_count": null,
   "metadata": {},
   "outputs": [],
   "source": [
    "# iterate to read by rows\n",
    "for index, row in df.iterrows():\n",
    "    print(index, row['Name'])\n",
    "    # printing all row values in column 'Name'"
   ]
  },
  {
   "cell_type": "code",
   "execution_count": null,
   "metadata": {},
   "outputs": [],
   "source": [
    "# finding a specific value in a dataset\n",
    "print(df.loc[df['Type 1'] == 'Grass'])\n",
    "# atttribue Type 1, with value Grass\n",
    "# or just simply\n",
    "df.loc[df['Type 1'] == 'Grass']"
   ]
  },
  {
   "cell_type": "code",
   "execution_count": null,
   "metadata": {},
   "outputs": [],
   "source": []
  }
 ]
}