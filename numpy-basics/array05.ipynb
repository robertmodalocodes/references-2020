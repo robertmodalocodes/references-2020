{
 "cells": [
  {
   "cell_type": "code",
   "execution_count": 1,
   "metadata": {},
   "outputs": [
    {
     "output_type": "execute_result",
     "data": {
      "text/plain": "array([0, 1, 2, 3, 4, 5, 6, 7, 8, 9])"
     },
     "metadata": {},
     "execution_count": 1
    }
   ],
   "source": [
    "import numpy as np\n",
    "\n",
    "x = np.arange(10)\n",
    "x"
   ]
  },
  {
   "cell_type": "code",
   "execution_count": null,
   "metadata": {},
   "outputs": [],
   "source": [
    "# first 5 elements\n",
    "print(x[:5])"
   ]
  },
  {
   "cell_type": "code",
   "execution_count": null,
   "metadata": {},
   "outputs": [],
   "source": [
    "# elements after index 5\n",
    "print(x[5:])"
   ]
  },
  {
   "cell_type": "code",
   "execution_count": null,
   "metadata": {},
   "outputs": [],
   "source": [
    "# middle subarray\n",
    "print(x[4:7])"
   ]
  },
  {
   "cell_type": "code",
   "execution_count": null,
   "metadata": {},
   "outputs": [],
   "source": [
    "# every other element\n",
    "print(x[::2])"
   ]
  },
  {
   "cell_type": "code",
   "execution_count": null,
   "metadata": {},
   "outputs": [],
   "source": [
    "# every other element, starting at index 1\n",
    "print(x[1::2])"
   ]
  },
  {
   "cell_type": "code",
   "execution_count": null,
   "metadata": {},
   "outputs": [],
   "source": [
    "# reversed every other from index 5\n",
    "print(x[5::-2])"
   ]
  },
  {
   "cell_type": "code",
   "execution_count": null,
   "metadata": {},
   "outputs": [],
   "source": [
    "# all elements reversed\n",
    "print(x[::-1])"
   ]
  },
  {
   "cell_type": "code",
   "execution_count": 2,
   "metadata": {},
   "outputs": [
    {
     "output_type": "stream",
     "name": "stdout",
     "text": "[[1 1 3 1]\n [3 3 6 6]\n [0 9 9 0]]\n"
    }
   ],
   "source": [
    "############################################################\n",
    "# multidimensional subarrays\n",
    "x2 = np.random.randint(10, size=(3, 4))\n",
    "print(x2)"
   ]
  },
  {
   "cell_type": "code",
   "execution_count": null,
   "metadata": {},
   "outputs": [],
   "source": [
    "# access 2 rows 3 columns\n",
    "print(x2[:2, :3])"
   ]
  },
  {
   "cell_type": "code",
   "execution_count": null,
   "metadata": {},
   "outputs": [],
   "source": [
    "# all rows, every other column\n",
    "print(x2[:3, ::2])"
   ]
  },
  {
   "cell_type": "code",
   "execution_count": null,
   "metadata": {},
   "outputs": [],
   "source": [
    "# reverse all the values in an array\n",
    "print(x2[::-1, ::-1])"
   ]
  },
  {
   "cell_type": "code",
   "execution_count": 5,
   "metadata": {},
   "outputs": [
    {
     "output_type": "stream",
     "name": "stdout",
     "text": "first column of x2: [1 3 0]\nfirst row of x2: [1 1 3 1]\nfirst row od x2: [1 1 3 1]\n"
    }
   ],
   "source": [
    "# accessing array rows and columns\n",
    "print('first column of x2:', x2[:, 0])\n",
    "print('first row of x2:', x2[0, :])\n",
    "# without specific instructions\n",
    "print('first row od x2:', x2[0]) # equivalent to x2[0, :]"
   ]
  },
  {
   "cell_type": "code",
   "execution_count": 8,
   "metadata": {},
   "outputs": [
    {
     "output_type": "stream",
     "name": "stdout",
     "text": "2x2 sub array of x2:\n [[99  1]\n [ 3  3]]\nnotice the original array changed:\n [[99  1  3  1]\n [ 3  3  6  6]\n [ 0  9  9  0]]\n"
    }
   ],
   "source": [
    "# subarrays\n",
    "# array slices return views, whereas list slices return copies\n",
    "\n",
    "# extract a 2x2 subarray\n",
    "x2_sub = x2[:2, :2]\n",
    "print('2x2 sub array of x2:\\n', x2_sub)\n",
    "print('')\n",
    "# modify the array\n",
    "x2_sub[0, 0] = 99\n",
    "# change the first row and column array value to 99\n",
    "# observe, it will change the original array\n",
    "print('notice the original array changed:\\n', x2)"
   ]
  },
  {
   "cell_type": "code",
   "execution_count": 10,
   "metadata": {},
   "outputs": [
    {
     "output_type": "stream",
     "name": "stdout",
     "text": "2x2 copy of array x2:\n [[99  1]\n [ 3  3]]\nsubarray chengad:\n [[42  1]\n [ 3  3]]\noriginal array\n [[99  1  3  1]\n [ 3  3  6  6]\n [ 0  9  9  0]]\n"
    }
   ],
   "source": [
    "# creating copies of arrays with copy method\n",
    "x2_sub_copy = x2[:2, :2].copy()\n",
    "print('2x2 copy of array x2:\\n', x2_sub_copy)\n",
    "# modify\n",
    "x2_sub_copy[0, 0] = 42\n",
    "print('subarray chengad:\\n', x2_sub_copy)\n",
    "# original array doesn't change at all\n",
    "print('original array\\n', x2)"
   ]
  },
  {
   "cell_type": "code",
   "execution_count": null,
   "metadata": {},
   "outputs": [],
   "source": []
  }
 ],
 "metadata": {
  "language_info": {
   "codemirror_mode": {
    "name": "ipython",
    "version": 3
   },
   "file_extension": ".py",
   "mimetype": "text/x-python",
   "name": "python",
   "nbconvert_exporter": "python",
   "pygments_lexer": "ipython3",
   "version": "3.7.4-final"
  },
  "orig_nbformat": 2,
  "kernelspec": {
   "name": "python37432bitb1171ec444e14af78ce458571c10f1e0",
   "display_name": "Python 3.7.4 32-bit"
  }
 },
 "nbformat": 4,
 "nbformat_minor": 2
}