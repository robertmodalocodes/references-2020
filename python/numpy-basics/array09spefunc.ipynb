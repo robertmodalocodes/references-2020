{
 "cells": [
  {
   "cell_type": "code",
   "execution_count": 4,
   "metadata": {},
   "outputs": [],
   "source": [
    "from scipy import special\n",
    "import numpy as np"
   ]
  },
  {
   "cell_type": "code",
   "execution_count": 2,
   "metadata": {},
   "outputs": [
    {
     "output_type": "stream",
     "name": "stdout",
     "text": "gamma(x)     = [1.0000e+00 2.4000e+01 3.6288e+05]\nln|gamma(x)| = [ 0.          3.17805383 12.80182748]\nbeta(x, 2)   = [0.5        0.03333333 0.00909091]\n"
    }
   ],
   "source": [
    "# gamma functions (generalized factorials) and related functions\n",
    "x = [1, 5, 10]\n",
    "print(\"gamma(x)     =\", special.gamma(x))\n",
    "print(\"ln|gamma(x)| =\", special.gammaln(x))\n",
    "print(\"beta(x, 2)   =\", special.beta(x, 2))"
   ]
  },
  {
   "cell_type": "code",
   "execution_count": 5,
   "metadata": {},
   "outputs": [
    {
     "output_type": "stream",
     "name": "stdout",
     "text": "erf(x)    = [0.         0.32862676 0.67780119 0.84270079]\nerfc(x)   = [1.         0.67137324 0.32219881 0.15729921]\nerfinv(x) = [0.         0.27246271 0.73286908        inf]\n"
    }
   ],
   "source": [
    "# Error function (integral of gaussian), its complement and its inverse\n",
    "x = np.array([0, 0.3, 0.7, 1.0])\n",
    "print(\"erf(x)    =\", special.erf(x))\n",
    "print(\"erfc(x)   =\", special.erfc(x))\n",
    "print(\"erfinv(x) =\", special.erfinv(x))"
   ]
  },
  {
   "cell_type": "code",
   "execution_count": 6,
   "metadata": {},
   "outputs": [
    {
     "output_type": "stream",
     "name": "stdout",
     "text": "[ 0. 10. 20. 30. 40.]\n"
    }
   ],
   "source": [
    "# write results directly to specified memory location\n",
    "x = np.arange(5)\n",
    "y = np.empty(5)\n",
    "np.multiply(x, 10, out=y)\n",
    "print(y)"
   ]
  },
  {
   "cell_type": "code",
   "execution_count": 8,
   "metadata": {},
   "outputs": [
    {
     "output_type": "stream",
     "name": "stdout",
     "text": "[ 1.  0.  2.  0.  4.  0.  8.  0. 16.  0.]\n"
    }
   ],
   "source": [
    "# even more specific\n",
    "# to save even more memory use this technique\n",
    "y = np.zeros(10)\n",
    "np.power(2, x, out=y[::2])\n",
    "# the \"out argument specify the target array\"\n",
    "print(y)"
   ]
  },
  {
   "cell_type": "code",
   "execution_count": 12,
   "metadata": {},
   "outputs": [
    {
     "output_type": "stream",
     "name": "stdout",
     "text": "[1 2 3 4 5]\n[ 2  4  6  8 10]\n15\n120\n"
    }
   ],
   "source": [
    "# aggregates\n",
    "x = np.arange(1, 6)\n",
    "print(x)\n",
    "print(np.add(x, x))\n",
    "print(np.add.reduce(x))\n",
    "print(np.multiply.reduce(x))"
   ]
  },
  {
   "cell_type": "code",
   "execution_count": 13,
   "metadata": {},
   "outputs": [
    {
     "output_type": "stream",
     "name": "stdout",
     "text": "[ 1  3  6 10 15]\n[  1   2   6  24 120]\n"
    }
   ],
   "source": [
    "# store all the results\n",
    "print(np.add.accumulate(x))\n",
    "print(np.multiply.accumulate(x))"
   ]
  },
  {
   "cell_type": "code",
   "execution_count": 14,
   "metadata": {},
   "outputs": [
    {
     "output_type": "stream",
     "name": "stdout",
     "text": "1.18.1\n"
    }
   ],
   "source": [
    "print(np.__version__)"
   ]
  },
  {
   "cell_type": "code",
   "execution_count": 15,
   "metadata": {},
   "outputs": [
    {
     "output_type": "stream",
     "name": "stdout",
     "text": "[[ 1  2  3  4  5]\n [ 2  4  6  8 10]\n [ 3  6  9 12 15]\n [ 4  8 12 16 20]\n [ 5 10 15 20 25]]\n"
    }
   ],
   "source": [
    "# outer products\n",
    "print(np.multiply.outer(x, x))"
   ]
  }
 ],
 "metadata": {
  "language_info": {
   "codemirror_mode": {
    "name": "ipython",
    "version": 3
   },
   "file_extension": ".py",
   "mimetype": "text/x-python",
   "name": "python",
   "nbconvert_exporter": "python",
   "pygments_lexer": "ipython3",
   "version": "3.7.6-final"
  },
  "orig_nbformat": 2,
  "kernelspec": {
   "name": "python3",
   "display_name": "Python 3"
  }
 },
 "nbformat": 4,
 "nbformat_minor": 2
}